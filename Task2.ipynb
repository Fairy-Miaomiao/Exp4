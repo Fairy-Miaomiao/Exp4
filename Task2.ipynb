{
 "cells": [
  {
   "cell_type": "markdown",
   "id": "2cbed017",
   "metadata": {},
   "source": [
    "# 导包和pyspark环境设置"
   ]
  },
  {
   "cell_type": "code",
   "execution_count": 1,
   "id": "0e09492f",
   "metadata": {},
   "outputs": [],
   "source": [
    "import findspark\n",
    "findspark.init()\n",
    "import pandas as pd\n",
    "from pyspark import SparkContext\n",
    "from pyspark.sql import SparkSession\n",
    "from pyspark.sql.functions import pandas_udf\n",
    "from pyspark import SQLContext\n",
    "from pyspark.mllib.classification import LogisticRegressionWithLBFGS, LogisticRegressionModel\n",
    "from pyspark.mllib.regression import LabeledPoint\n",
    "from pyspark.ml.feature import StringIndexer\n",
    "from pyspark.ml.feature import VectorAssembler\n",
    "from pyspark.ml.feature import OneHotEncoder\n",
    "from pyspark.sql.types import IntegerType\n",
    "sc = SparkContext(\"local\", \"first\")\n",
    "logFile = \"file:///F:/FBDP/实验/实验四/logfile1.txt\"  \n",
    "logData = sc.textFile(logFile).cache()\n",
    "spark = SparkSession.builder.config(\"spark.driver.memory\", \"16g\").getOrCreate()"
   ]
  },
  {
   "cell_type": "markdown",
   "id": "db3458c7",
   "metadata": {},
   "source": [
    "# 读入数据并计算total_loan的分布"
   ]
  },
  {
   "cell_type": "code",
   "execution_count": 2,
   "id": "7f719b4f",
   "metadata": {},
   "outputs": [
    {
     "name": "stdout",
     "output_type": "stream",
     "text": [
      "((0,1000),2)\n",
      "((1000,2000),4043)\n",
      "((2000,3000),6341)\n",
      "((3000,4000),9317)\n",
      "((4000,5000),10071)\n",
      "((5000,6000),16514)\n",
      "((6000,7000),15961)\n",
      "((7000,8000),12789)\n",
      "((8000,9000),16384)\n",
      "((9000,10000),10458)\n",
      "((10000,11000),27170)\n",
      "((11000,12000),7472)\n",
      "((12000,13000),20513)\n",
      "((13000,14000),5928)\n",
      "((14000,15000),8888)\n",
      "((15000,16000),18612)\n",
      "((16000,17000),11277)\n",
      "((17000,18000),4388)\n",
      "((18000,19000),9342)\n",
      "((19000,20000),4077)\n",
      "((20000,21000),17612)\n",
      "((21000,22000),5507)\n",
      "((22000,23000),3544)\n",
      "((23000,24000),2308)\n",
      "((24000,25000),8660)\n",
      "((25000,26000),8813)\n",
      "((26000,27000),1604)\n",
      "((27000,28000),1645)\n",
      "((28000,29000),5203)\n",
      "((29000,30000),1144)\n",
      "((30000,31000),6864)\n",
      "((31000,32000),752)\n",
      "((32000,33000),1887)\n",
      "((33000,34000),865)\n",
      "((34000,35000),587)\n",
      "((35000,36000),11427)\n",
      "((36000,37000),364)\n",
      "((37000,38000),59)\n",
      "((38000,39000),85)\n",
      "((39000,40000),30)\n",
      "((40000,41000),1493)\n",
      "共计300000条\n"
     ]
    }
   ],
   "source": [
    "df=spark.read.options(header='True') .csv(\"file:///F:/FBDP/实验/实验四/train_data.csv\")\n",
    "sum=0\n",
    "ranges=[]\n",
    "count=[]\n",
    "for i in range(41):\n",
    "    left=i*1000\n",
    "    right=(i+1)*1000\n",
    "    res=df.filter(((df['total_loan']-str(left))>=0)&(df['total_loan']-str(right)<0)).count()\n",
    "    now_range='(('+str(left)+','+str(right)+'))'\n",
    "    ranges.append(now_range)\n",
    "    count.append(res)\n",
    "    print(\"((%i,%i),%i)\" % (i*1000,(i+1)*1000,res))\n",
    "    sum=sum+res\n",
    "print(\"共计%i条\" % sum)"
   ]
  },
  {
   "cell_type": "markdown",
   "id": "6daab4e0",
   "metadata": {},
   "source": [
    "# 将结果存储为csv"
   ]
  },
  {
   "cell_type": "code",
   "execution_count": 3,
   "id": "549c95a0",
   "metadata": {},
   "outputs": [],
   "source": [
    "data={'range':ranges,'count':count}\n",
    "df = pd.DataFrame(data, columns=['range', 'count'])\n",
    "df.to_csv(\"task2_output.csv\")"
   ]
  },
  {
   "cell_type": "markdown",
   "id": "df06d7b1",
   "metadata": {},
   "source": [
    "# 停止SparkContext"
   ]
  },
  {
   "cell_type": "code",
   "execution_count": 4,
   "id": "72504f96",
   "metadata": {},
   "outputs": [],
   "source": [
    "sc.stop()"
   ]
  },
  {
   "cell_type": "code",
   "execution_count": null,
   "id": "b3f3de6f",
   "metadata": {},
   "outputs": [],
   "source": []
  }
 ],
 "metadata": {
  "kernelspec": {
   "display_name": "Python 3",
   "language": "python",
   "name": "python3"
  },
  "language_info": {
   "codemirror_mode": {
    "name": "ipython",
    "version": 3
   },
   "file_extension": ".py",
   "mimetype": "text/x-python",
   "name": "python",
   "nbconvert_exporter": "python",
   "pygments_lexer": "ipython3",
   "version": "3.6.13"
  }
 },
 "nbformat": 4,
 "nbformat_minor": 5
}
